{
 "cells": [
  {
   "cell_type": "markdown",
   "metadata": {},
   "source": [
    "## Design Single linked list by Python\n",
    "\n",
    "Linked list is the most common data structure and is widely used in queue, stacks, hash table ... etc. \n",
    "But how it works is not straightforward enough to a lot of beginners. Therefore I write a guide to explain and use a list to show how it would look like at each stage of operation.\n",
    "This is a leetcode problem and my tutorial also published on [leetcode](https://leetcode.com/problems/design-linked-list/discuss/868772/python-singly-linked-with-explaination-and-debug-method)."
   ]
  },
  {
   "cell_type": "markdown",
   "metadata": {},
   "source": [
    "---\n",
    "### step 1: create a method for linking\n",
    "\n",
    "As title, here I named it '**Node**'.\n",
    "We would need it when we want a **value(val)** to link to **next** - \n",
    "here it's something could be None, another value, or another Node object, depending on its position. \n",
    "If we have not decide what this value to link (when we start build it or the last one), \n",
    "we just simply assign its *next* is None.\n",
    "Now it has both *val* and *next*, it's called a *Node object*."
   ]
  },
  {
   "cell_type": "code",
   "execution_count": null,
   "metadata": {},
   "outputs": [],
   "source": [
    "class Node(object):\n",
    "\tdef __init__(self, val):\n",
    "\t\tself.val = val\n",
    "\t\tself.next = None"
   ]
  },
  {
   "cell_type": "markdown",
   "metadata": {},
   "source": [
    "---\n",
    "### step 2: initializing\n",
    "\n",
    "We need a start which says : 'Here is the head of MyLinkedList !'.\n",
    "Here I name it **head**, and assign it to None.\n",
    "Besides, we also need something to help indexing this list. \n",
    "Therefore, I create **id** to indicate the length of it. \n",
    "**(attention:** it's better named it ind to distinguish it from built-in function id())\n",
    "I also creat a list for debugging."
   ]
  },
  {
   "cell_type": "code",
   "execution_count": null,
   "metadata": {},
   "outputs": [],
   "source": [
    "class MyLinkedList: # construct the data structure\n",
    "\tdef __init__(self): \n",
    "\t\tself.head = None\n",
    "\t\tself.id = 0 # index for head, also the length of mylist"
   ]
  },
  {
   "cell_type": "markdown",
   "metadata": {},
   "source": [
    "---\n",
    "### step 3: add items\n",
    "\n",
    "(In my personal opinion, I change the order of default codes to let it more easy.)\n",
    "\n",
    "First, create a Node object **node (*nodeobject*)**, whose *val* = val, in order to link to next element."
   ]
  },
  {
   "cell_type": "markdown",
   "metadata": {},
   "source": [
    "#### 3.1 Add at head\n",
    "When it comes to add at head, it's a little tricky:\n",
    "\n",
    "1.  **add to empty list:**  \n",
    "Just announce the head is the *nodeobject* now.\n",
    "\n",
    "\n",
    "2.  **add to non-empty list:**  \n",
    "Like 1, the head is the *node* now, but how about the **original head**? \n",
    "Since the nodeobject is the first element now, **the original head now becomes nodeobject's *next*** .\n",
    "\n",
    "Because an item is added, we need to increase id with 1 to change the length at the same time."
   ]
  },
  {
   "cell_type": "code",
   "execution_count": null,
   "metadata": {},
   "outputs": [],
   "source": [
    "# Add at head\n",
    "\tdef addAtHead(self, val: int) -> None:\n",
    "\t\tnode = Node(val)\n",
    "\t\tif not self.head: # add to empty list\n",
    "\t\t\tself.head = node\n",
    "\t\t\t#self.list.append(val)\n",
    "\t\telse: # add to exist list\n",
    "\t\t\tself.head, node.next = node, self.head\n",
    "\t\t\t#self.list = [val] + self.list\n",
    "\t\tself.id += 1\n",
    "\n",
    "\t\t#self.debug()"
   ]
  },
  {
   "cell_type": "markdown",
   "metadata": {},
   "source": [
    "#### 3.2 Add at tail\n",
    "\n",
    "When there's no *head*,  it means *nodeobject* is the first elements, just like add at head.\n",
    "\n",
    "In other situation, We need to **find the previous node before the tail** \n",
    "(since the tail (last element) is always None, None does't have *next* attribute), \n",
    "so we loop untill we arrive at **id (length of the list) - 2** \n",
    "(extra 1 because the result is the node's *next*). \n",
    "After that, we assign this previous node's *next* to *nodeobject*."
   ]
  },
  {
   "cell_type": "code",
   "execution_count": null,
   "metadata": {},
   "outputs": [],
   "source": [
    "# Add at tail\n",
    "\tdef addAtTail(self, val: int) -> None:\n",
    "\t\tif not self.head:\n",
    "\t\t\tself.addAtHead(val)\n",
    "\t\telse:\n",
    "\t\t\tpre = self.head\n",
    "\t\t\tfor _ in range(self.id - 1): # find previous node of tail(=None)\n",
    "\t\t\t\tpre = pre.next\n",
    "\t\t\tpre.next = Node(val)\n",
    "\t\t\tself.id += 1\n",
    "\n",
    "\t\t\t#self.list.append(val)\n",
    "\t\t\t#self.debug()"
   ]
  },
  {
   "cell_type": "markdown",
   "metadata": {},
   "source": [
    "#### 3.3 Add at index\n",
    "\n",
    "Just like *AddAtTail*, we need to loop first to find the previous node. \n",
    "\n",
    "However, this time, we **linked previous node to *nodeobject*, and *nodeobject* to original  previous node's *next*.**"
   ]
  },
  {
   "cell_type": "code",
   "execution_count": null,
   "metadata": {},
   "outputs": [],
   "source": [
    "# Add at index\n",
    "\tdef addAtIndex(self, index: int, val: int) -> None:\n",
    "\t\tif index == 0:\n",
    "\t\t\tself.addAtHead(val)\n",
    "\t\telif index <= self.id:\n",
    "\t\t\tnode = Node(val)\n",
    "\t\t\tpre = self.head\n",
    "\t\t\tfor _ in range(index - 1): # find previous node (before the index)\n",
    "\t\t\t\tpre = pre.next\n",
    "\t\t\t#pre -> node -> original pre.next(= current node.next)\n",
    "\t\t\tpre.next, node.next = node, pre.next\n",
    "\t\t\tself.id += 1\n",
    "\n",
    "\t\t\t#self.list.insert(index, val)\n",
    "\t\t\t#self.debug()"
   ]
  },
  {
   "cell_type": "markdown",
   "metadata": {},
   "source": [
    "---\n",
    "### step 4: delete items\n",
    "\n",
    "Just like *AddAtIndex*, however :\n",
    "\n",
    "1. **no need to create a new** ***nodeobject***    \n",
    "we just recombine it\n",
    "\n",
    "\n",
    "2. **the index cannot equal to id**   \n",
    "since it means to delete the last element - None, and it would raise an error\n",
    "\n",
    "If we want to delete the first element, we need to assign the head to itself's *next*.\n",
    "In other situaitons, we loop to find the previous node of where we'd like to delete, \n",
    "and **link previous node to *next* of itself's *next*** (element after the delete element)\n",
    "Because an item is deleted, we need to decrease id with 1 to change the length at the same time."
   ]
  },
  {
   "cell_type": "code",
   "execution_count": null,
   "metadata": {},
   "outputs": [],
   "source": [
    "    def deleteAtIndex(self, index: int) -> None:\n",
    "        if index < self.id:\n",
    "            pre = self.head\n",
    "            for _ in range(index - 1): # find previous node of where to delete\n",
    "                pre = pre.next\n",
    "            # pre -> original pre.next.next(= current pre.next)\n",
    "            if index == 0 and pre:\n",
    "                self.head = pre.next\n",
    "            elif pre.next:\n",
    "                pre.next = pre.next.next\n",
    "            self.id -= 1\n",
    "            \n",
    "            #del self.list[index]\n",
    "            #self.debug()"
   ]
  },
  {
   "cell_type": "markdown",
   "metadata": {},
   "source": [
    "---\n",
    "### step 5: get items and debug\n",
    "\n",
    "Just like what we did to find index-th element above, but we return its *val* this time."
   ]
  },
  {
   "cell_type": "code",
   "execution_count": null,
   "metadata": {},
   "outputs": [],
   "source": [
    "    def get(self, index: int) -> int:\n",
    "        # if index == self.id, the elements will be None which doesn't have val \n",
    "        if index < self.id: \n",
    "            x = self.head\n",
    "            for _ in range(index):\n",
    "                x = x.next \n",
    "            #self.debug()\n",
    "            return x.val\n",
    "        return -1"
   ]
  },
  {
   "cell_type": "markdown",
   "metadata": {},
   "source": [
    "Finally ! here's the code I wrote to debug, it produces 2 lists at steps you want:\n",
    "1. what this list should look like\n",
    "2.  what it really looks like"
   ]
  },
  {
   "cell_type": "code",
   "execution_count": null,
   "metadata": {},
   "outputs": [],
   "source": [
    "\tdef debug(self) -> None:\n",
    "\t\tx = self.head\n",
    "\t\tL = []\n",
    "\t\tfor _ in range(self.id):\n",
    "\t\t\tif x:\n",
    "\t\t\t\tL.append(x.val)\n",
    "\t\t\t\tx = x.next\n",
    "\t\t\telse:\n",
    "\t\t\t\tL.append(x)\n",
    "\t\tprint(self.list,'*', L)"
   ]
  },
  {
   "cell_type": "markdown",
   "metadata": {},
   "source": [
    "It will like the cell below, you'll know something wrong when seeing difference between 2 lists."
   ]
  },
  {
   "cell_type": "code",
   "execution_count": null,
   "metadata": {},
   "outputs": [],
   "source": [
    "\t[1] * [1]\n",
    "\t[1, 3] * [1, 3]\n",
    "\t[1, 2, 3] * [1, 3, 2]  << something wrong\n",
    "\t[1, 2, 3] * [1, 3, 2]\n",
    "\t[1, 3] * [1, 2]\n",
    "\t[1, 3] * [1, 2]"
   ]
  }
 ],
 "metadata": {
  "kernelspec": {
   "display_name": "Python 3",
   "language": "python",
   "name": "python3"
  },
  "language_info": {
   "codemirror_mode": {
    "name": "ipython",
    "version": 3
   },
   "file_extension": ".py",
   "mimetype": "text/x-python",
   "name": "python",
   "nbconvert_exporter": "python",
   "pygments_lexer": "ipython3",
   "version": "3.8.3"
  }
 },
 "nbformat": 4,
 "nbformat_minor": 4
}
